{
 "cells": [
  {
   "cell_type": "code",
   "execution_count": 1,
   "metadata": {},
   "outputs": [
    {
     "name": "stdout",
     "output_type": "stream",
     "text": [
      "WARNING:tensorflow:From c:\\Users\\ashut\\OneDrive\\Desktop\\DST\\Main Project\\Emotion detector\\Emotion_detection_with_CNN\\ed\\Emotion\\lib\\site-packages\\keras\\src\\losses.py:2976: The name tf.losses.sparse_softmax_cross_entropy is deprecated. Please use tf.compat.v1.losses.sparse_softmax_cross_entropy instead.\n",
      "\n"
     ]
    }
   ],
   "source": [
    "# import required packages\n",
    "import cv2\n",
    "from keras.models import Sequential\n",
    "from keras.layers import Conv2D, MaxPooling2D, Dense, Dropout, Flatten\n",
    "from keras.optimizers import Adam\n",
    "from keras.preprocessing.image import ImageDataGenerator\n",
    "import scipy\n"
   ]
  },
  {
   "cell_type": "code",
   "execution_count": 2,
   "metadata": {},
   "outputs": [],
   "source": [
    "# Initialize image data generator with rescaling\n",
    "train_data_gen = ImageDataGenerator(rescale=1./255)\n",
    "validation_data_gen = ImageDataGenerator(rescale=1./255)"
   ]
  },
  {
   "cell_type": "code",
   "execution_count": 3,
   "metadata": {},
   "outputs": [
    {
     "name": "stdout",
     "output_type": "stream",
     "text": [
      "Found 24282 images belonging to 5 classes.\n",
      "Found 5937 images belonging to 5 classes.\n"
     ]
    }
   ],
   "source": [
    "# Preprocess all test images\n",
    "train_generator = train_data_gen.flow_from_directory(\n",
    "        'data/train',\n",
    "        target_size=(48, 48),\n",
    "        batch_size=64,\n",
    "        color_mode=\"grayscale\",\n",
    "        class_mode='categorical')\n",
    "\n",
    "# Preprocess all train images\n",
    "validation_generator = validation_data_gen.flow_from_directory(\n",
    "        'data/test',\n",
    "        target_size=(48, 48),\n",
    "        batch_size=64,\n",
    "        color_mode=\"grayscale\",\n",
    "        class_mode='categorical')"
   ]
  },
  {
   "cell_type": "code",
   "execution_count": 4,
   "metadata": {},
   "outputs": [
    {
     "name": "stdout",
     "output_type": "stream",
     "text": [
      "WARNING:tensorflow:From c:\\Users\\ashut\\OneDrive\\Desktop\\DST\\Main Project\\Emotion detector\\Emotion_detection_with_CNN\\ed\\Emotion\\lib\\site-packages\\keras\\src\\backend.py:873: The name tf.get_default_graph is deprecated. Please use tf.compat.v1.get_default_graph instead.\n",
      "\n",
      "WARNING:tensorflow:From c:\\Users\\ashut\\OneDrive\\Desktop\\DST\\Main Project\\Emotion detector\\Emotion_detection_with_CNN\\ed\\Emotion\\lib\\site-packages\\keras\\src\\layers\\pooling\\max_pooling2d.py:161: The name tf.nn.max_pool is deprecated. Please use tf.nn.max_pool2d instead.\n",
      "\n"
     ]
    }
   ],
   "source": [
    "# create model structure\n",
    "emotion_model = Sequential()\n",
    "\n",
    "emotion_model.add(Conv2D(32, kernel_size=(3, 3), activation='relu', input_shape=(48, 48, 1)))\n",
    "emotion_model.add(Conv2D(64, kernel_size=(3, 3), activation='relu'))\n",
    "emotion_model.add(MaxPooling2D(pool_size=(2, 2)))\n",
    "emotion_model.add(Dropout(0.25))\n",
    "\n",
    "emotion_model.add(Conv2D(128, kernel_size=(3, 3), activation='relu'))\n",
    "emotion_model.add(MaxPooling2D(pool_size=(2, 2)))\n",
    "emotion_model.add(Conv2D(128, kernel_size=(3, 3), activation='relu'))\n",
    "emotion_model.add(MaxPooling2D(pool_size=(2, 2)))\n",
    "emotion_model.add(Dropout(0.25))\n",
    "\n",
    "emotion_model.add(Flatten())\n",
    "emotion_model.add(Dense(1024, activation='relu'))\n",
    "emotion_model.add(Dropout(0.5))\n",
    "emotion_model.add(Dense(5, activation='softmax'))\n",
    "\n",
    "cv2.ocl.setUseOpenCL(False)\n",
    "\n",
    "emotion_model.compile(loss='categorical_crossentropy', optimizer=Adam(learning_rate=0.0001), metrics=['accuracy'])\n"
   ]
  },
  {
   "cell_type": "code",
   "execution_count": 5,
   "metadata": {},
   "outputs": [
    {
     "name": "stdout",
     "output_type": "stream",
     "text": [
      "Epoch 1/50\n"
     ]
    },
    {
     "name": "stderr",
     "output_type": "stream",
     "text": [
      "C:\\Users\\ashut\\AppData\\Local\\Temp\\ipykernel_16412\\560572671.py:2: UserWarning: `Model.fit_generator` is deprecated and will be removed in a future version. Please use `Model.fit`, which supports generators.\n",
      "  emotion_model_info = emotion_model.fit_generator(\n"
     ]
    },
    {
     "name": "stdout",
     "output_type": "stream",
     "text": [
      "WARNING:tensorflow:From c:\\Users\\ashut\\OneDrive\\Desktop\\DST\\Main Project\\Emotion detector\\Emotion_detection_with_CNN\\ed\\Emotion\\lib\\site-packages\\keras\\src\\utils\\tf_utils.py:492: The name tf.ragged.RaggedTensorValue is deprecated. Please use tf.compat.v1.ragged.RaggedTensorValue instead.\n",
      "\n",
      "WARNING:tensorflow:From c:\\Users\\ashut\\OneDrive\\Desktop\\DST\\Main Project\\Emotion detector\\Emotion_detection_with_CNN\\ed\\Emotion\\lib\\site-packages\\keras\\src\\engine\\base_layer_utils.py:384: The name tf.executing_eagerly_outside_functions is deprecated. Please use tf.compat.v1.executing_eagerly_outside_functions instead.\n",
      "\n",
      "380/380 [==============================] - 88s 228ms/step - loss: 1.5509 - accuracy: 0.3144 - val_loss: 1.4258 - val_accuracy: 0.4206\n",
      "Epoch 2/50\n",
      "380/380 [==============================] - 78s 206ms/step - loss: 1.3655 - accuracy: 0.4357 - val_loss: 1.2867 - val_accuracy: 0.4859\n",
      "Epoch 3/50\n",
      "380/380 [==============================] - 76s 200ms/step - loss: 1.2667 - accuracy: 0.4868 - val_loss: 1.2001 - val_accuracy: 0.5284\n",
      "Epoch 4/50\n",
      "380/380 [==============================] - 88s 232ms/step - loss: 1.1952 - accuracy: 0.5205 - val_loss: 1.1440 - val_accuracy: 0.5437\n",
      "Epoch 5/50\n",
      "380/380 [==============================] - 86s 227ms/step - loss: 1.1418 - accuracy: 0.5441 - val_loss: 1.0924 - val_accuracy: 0.5688\n",
      "Epoch 6/50\n",
      "380/380 [==============================] - 85s 223ms/step - loss: 1.0922 - accuracy: 0.5654 - val_loss: 1.0610 - val_accuracy: 0.5809\n",
      "Epoch 7/50\n",
      "380/380 [==============================] - 85s 223ms/step - loss: 1.0545 - accuracy: 0.5820 - val_loss: 1.0329 - val_accuracy: 0.5924\n",
      "Epoch 8/50\n",
      "380/380 [==============================] - 78s 206ms/step - loss: 1.0151 - accuracy: 0.5958 - val_loss: 1.0030 - val_accuracy: 0.6074\n",
      "Epoch 9/50\n",
      "380/380 [==============================] - 75s 197ms/step - loss: 0.9809 - accuracy: 0.6147 - val_loss: 0.9708 - val_accuracy: 0.6197\n",
      "Epoch 10/50\n",
      "380/380 [==============================] - 75s 199ms/step - loss: 0.9547 - accuracy: 0.6257 - val_loss: 0.9650 - val_accuracy: 0.6227\n",
      "Epoch 11/50\n",
      "380/380 [==============================] - 79s 207ms/step - loss: 0.9245 - accuracy: 0.6416 - val_loss: 0.9367 - val_accuracy: 0.6350\n",
      "Epoch 12/50\n",
      "380/380 [==============================] - 78s 206ms/step - loss: 0.9021 - accuracy: 0.6502 - val_loss: 0.9099 - val_accuracy: 0.6508\n",
      "Epoch 13/50\n",
      "380/380 [==============================] - 83s 218ms/step - loss: 0.8713 - accuracy: 0.6627 - val_loss: 0.9010 - val_accuracy: 0.6530\n",
      "Epoch 14/50\n",
      "380/380 [==============================] - 83s 219ms/step - loss: 0.8498 - accuracy: 0.6691 - val_loss: 0.8920 - val_accuracy: 0.6507\n",
      "Epoch 15/50\n",
      "380/380 [==============================] - 79s 208ms/step - loss: 0.8289 - accuracy: 0.6769 - val_loss: 0.8865 - val_accuracy: 0.6562\n",
      "Epoch 16/50\n",
      "380/380 [==============================] - 76s 200ms/step - loss: 0.8105 - accuracy: 0.6874 - val_loss: 0.8847 - val_accuracy: 0.6614\n",
      "Epoch 17/50\n",
      "380/380 [==============================] - 76s 199ms/step - loss: 0.7904 - accuracy: 0.6955 - val_loss: 0.8830 - val_accuracy: 0.6614\n",
      "Epoch 18/50\n",
      "380/380 [==============================] - 76s 199ms/step - loss: 0.7667 - accuracy: 0.7091 - val_loss: 0.8640 - val_accuracy: 0.6700\n",
      "Epoch 19/50\n",
      "380/380 [==============================] - 76s 199ms/step - loss: 0.7438 - accuracy: 0.7180 - val_loss: 0.8575 - val_accuracy: 0.6749\n",
      "Epoch 20/50\n",
      "380/380 [==============================] - 76s 201ms/step - loss: 0.7348 - accuracy: 0.7195 - val_loss: 0.8529 - val_accuracy: 0.6753\n",
      "Epoch 21/50\n",
      "380/380 [==============================] - 76s 200ms/step - loss: 0.7112 - accuracy: 0.7304 - val_loss: 0.8540 - val_accuracy: 0.6763\n",
      "Epoch 22/50\n",
      "380/380 [==============================] - 76s 199ms/step - loss: 0.6938 - accuracy: 0.7368 - val_loss: 0.8576 - val_accuracy: 0.6754\n",
      "Epoch 23/50\n",
      "380/380 [==============================] - 76s 199ms/step - loss: 0.6735 - accuracy: 0.7439 - val_loss: 0.8496 - val_accuracy: 0.6806\n",
      "Epoch 24/50\n",
      "380/380 [==============================] - 76s 200ms/step - loss: 0.6536 - accuracy: 0.7521 - val_loss: 0.8572 - val_accuracy: 0.6785\n",
      "Epoch 25/50\n",
      "380/380 [==============================] - 76s 201ms/step - loss: 0.6427 - accuracy: 0.7570 - val_loss: 0.8379 - val_accuracy: 0.6827\n",
      "Epoch 26/50\n",
      "380/380 [==============================] - 76s 200ms/step - loss: 0.6174 - accuracy: 0.7692 - val_loss: 0.8481 - val_accuracy: 0.6864\n",
      "Epoch 27/50\n",
      "380/380 [==============================] - 76s 200ms/step - loss: 0.5992 - accuracy: 0.7733 - val_loss: 0.8539 - val_accuracy: 0.6844\n",
      "Epoch 28/50\n",
      "380/380 [==============================] - 76s 200ms/step - loss: 0.5786 - accuracy: 0.7821 - val_loss: 0.8473 - val_accuracy: 0.6881\n",
      "Epoch 29/50\n",
      "380/380 [==============================] - 76s 200ms/step - loss: 0.5630 - accuracy: 0.7910 - val_loss: 0.8535 - val_accuracy: 0.6840\n",
      "Epoch 30/50\n",
      "380/380 [==============================] - 76s 199ms/step - loss: 0.5443 - accuracy: 0.7954 - val_loss: 0.8511 - val_accuracy: 0.6867\n",
      "Epoch 31/50\n",
      "380/380 [==============================] - 76s 199ms/step - loss: 0.5255 - accuracy: 0.8049 - val_loss: 0.8666 - val_accuracy: 0.6865\n",
      "Epoch 32/50\n",
      "380/380 [==============================] - 76s 200ms/step - loss: 0.5109 - accuracy: 0.8083 - val_loss: 0.8633 - val_accuracy: 0.6872\n",
      "Epoch 33/50\n",
      "380/380 [==============================] - 76s 199ms/step - loss: 0.4906 - accuracy: 0.8180 - val_loss: 0.8659 - val_accuracy: 0.6869\n",
      "Epoch 34/50\n",
      "380/380 [==============================] - 76s 200ms/step - loss: 0.4729 - accuracy: 0.8224 - val_loss: 0.8720 - val_accuracy: 0.6877\n",
      "Epoch 35/50\n",
      "380/380 [==============================] - 76s 199ms/step - loss: 0.4538 - accuracy: 0.8312 - val_loss: 0.8792 - val_accuracy: 0.6874\n",
      "Epoch 36/50\n",
      "380/380 [==============================] - 76s 200ms/step - loss: 0.4468 - accuracy: 0.8345 - val_loss: 0.8963 - val_accuracy: 0.6928\n",
      "Epoch 37/50\n",
      "380/380 [==============================] - 75s 198ms/step - loss: 0.4272 - accuracy: 0.8407 - val_loss: 0.9008 - val_accuracy: 0.6867\n",
      "Epoch 38/50\n",
      "380/380 [==============================] - 76s 199ms/step - loss: 0.4089 - accuracy: 0.8500 - val_loss: 0.9150 - val_accuracy: 0.6923\n",
      "Epoch 39/50\n",
      "380/380 [==============================] - 76s 200ms/step - loss: 0.3981 - accuracy: 0.8532 - val_loss: 0.9043 - val_accuracy: 0.6855\n",
      "Epoch 40/50\n",
      "380/380 [==============================] - 76s 199ms/step - loss: 0.3820 - accuracy: 0.8585 - val_loss: 0.9000 - val_accuracy: 0.6899\n",
      "Epoch 41/50\n",
      "380/380 [==============================] - 76s 199ms/step - loss: 0.3628 - accuracy: 0.8668 - val_loss: 0.9372 - val_accuracy: 0.6948\n",
      "Epoch 42/50\n",
      "380/380 [==============================] - 75s 198ms/step - loss: 0.3538 - accuracy: 0.8706 - val_loss: 0.9199 - val_accuracy: 0.6973\n",
      "Epoch 43/50\n",
      "380/380 [==============================] - 76s 199ms/step - loss: 0.3362 - accuracy: 0.8762 - val_loss: 0.9271 - val_accuracy: 0.6936\n",
      "Epoch 44/50\n",
      "380/380 [==============================] - 76s 200ms/step - loss: 0.3287 - accuracy: 0.8807 - val_loss: 0.9351 - val_accuracy: 0.6919\n",
      "Epoch 45/50\n",
      "380/380 [==============================] - 76s 199ms/step - loss: 0.3081 - accuracy: 0.8873 - val_loss: 0.9656 - val_accuracy: 0.6951\n",
      "Epoch 46/50\n",
      "380/380 [==============================] - 75s 198ms/step - loss: 0.3073 - accuracy: 0.8881 - val_loss: 0.9592 - val_accuracy: 0.6886\n",
      "Epoch 47/50\n",
      "380/380 [==============================] - 76s 199ms/step - loss: 0.2921 - accuracy: 0.8947 - val_loss: 0.9734 - val_accuracy: 0.6921\n",
      "Epoch 48/50\n",
      "380/380 [==============================] - 76s 199ms/step - loss: 0.2835 - accuracy: 0.8984 - val_loss: 0.9900 - val_accuracy: 0.6928\n",
      "Epoch 49/50\n",
      "380/380 [==============================] - 79s 207ms/step - loss: 0.2728 - accuracy: 0.9007 - val_loss: 0.9995 - val_accuracy: 0.6960\n",
      "Epoch 50/50\n",
      "380/380 [==============================] - 76s 201ms/step - loss: 0.2610 - accuracy: 0.9047 - val_loss: 1.0024 - val_accuracy: 0.6945\n"
     ]
    }
   ],
   "source": [
    "# Train the model using fit_generator\n",
    "emotion_model_info = emotion_model.fit_generator(\n",
    "    train_generator,\n",
    "    steps_per_epoch=len(train_generator),\n",
    "    epochs=50,\n",
    "    validation_data=validation_generator,\n",
    "    validation_steps=len(validation_generator)\n",
    ")"
   ]
  },
  {
   "cell_type": "code",
   "execution_count": 6,
   "metadata": {},
   "outputs": [],
   "source": [
    "# save model structure in jason file\n",
    "model_json = emotion_model.to_json()\n",
    "with open(\"emotion_model.json\", \"w\") as json_file:\n",
    "    json_file.write(model_json)"
   ]
  },
  {
   "cell_type": "code",
   "execution_count": 7,
   "metadata": {},
   "outputs": [],
   "source": [
    "# save trained model weight in .h5 file\n",
    "emotion_model.save_weights('emotion_model.h5')"
   ]
  },
  {
   "cell_type": "code",
   "execution_count": 1,
   "metadata": {},
   "outputs": [
    {
     "name": "stdout",
     "output_type": "stream",
     "text": [
      "WARNING:tensorflow:From c:\\Users\\ashut\\OneDrive\\Desktop\\DST\\Main Project\\Emotion detector\\Emotion_detection_with_CNN\\ed\\Emotion\\lib\\site-packages\\keras\\src\\losses.py:2976: The name tf.losses.sparse_softmax_cross_entropy is deprecated. Please use tf.compat.v1.losses.sparse_softmax_cross_entropy instead.\n",
      "\n",
      "WARNING:tensorflow:From c:\\Users\\ashut\\OneDrive\\Desktop\\DST\\Main Project\\Emotion detector\\Emotion_detection_with_CNN\\ed\\Emotion\\lib\\site-packages\\keras\\src\\backend.py:1398: The name tf.executing_eagerly_outside_functions is deprecated. Please use tf.compat.v1.executing_eagerly_outside_functions instead.\n",
      "\n",
      "WARNING:tensorflow:From c:\\Users\\ashut\\OneDrive\\Desktop\\DST\\Main Project\\Emotion detector\\Emotion_detection_with_CNN\\ed\\Emotion\\lib\\site-packages\\keras\\src\\layers\\pooling\\max_pooling2d.py:161: The name tf.nn.max_pool is deprecated. Please use tf.nn.max_pool2d instead.\n",
      "\n",
      "Loaded model from disk\n",
      "Found 5937 images belonging to 5 classes.\n"
     ]
    },
    {
     "name": "stderr",
     "output_type": "stream",
     "text": [
      "C:\\Users\\ashut\\AppData\\Local\\Temp\\ipykernel_12516\\872315823.py:32: UserWarning: `Model.predict_generator` is deprecated and will be removed in a future version. Please use `Model.predict`, which supports generators.\n",
      "  predictions = emotion_model.predict_generator(test_generator)\n"
     ]
    },
    {
     "name": "stdout",
     "output_type": "stream",
     "text": [
      "-----------------------------------------------------------------\n",
      "[[142 323 172 207 116]\n",
      " [251 582 346 391 255]\n",
      " [169 383 234 255 175]\n",
      " [165 348 211 256 159]\n",
      " [128 267 151 152  99]]\n"
     ]
    },
    {
     "data": {
      "image/png": "[encoded data removed]",
      "text/plain": [
       "<Figure size 640x480 with 2 Axes>"
      ]
     },
     "metadata": {},
     "output_type": "display_data"
    },
    {
     "name": "stdout",
     "output_type": "stream",
     "text": [
      "-----------------------------------------------------------------\n",
      "              precision    recall  f1-score   support\n",
      "\n",
      "           0       0.17      0.15      0.16       960\n",
      "           1       0.31      0.32      0.31      1825\n",
      "           2       0.21      0.19      0.20      1216\n",
      "           3       0.20      0.22      0.21      1139\n",
      "           4       0.12      0.12      0.12       797\n",
      "\n",
      "    accuracy                           0.22      5937\n",
      "   macro avg       0.20      0.20      0.20      5937\n",
      "weighted avg       0.22      0.22      0.22      5937\n",
      "\n"
     ]
    }
   ],
   "source": [
    "\n",
    "import numpy as np\n",
    "from keras.models import model_from_json\n",
    "import matplotlib.pyplot as plt\n",
    "from keras.preprocessing.image import ImageDataGenerator\n",
    "from sklearn.metrics import confusion_matrix, classification_report,ConfusionMatrixDisplay\n",
    "\n",
    "\n",
    "emotion_dict = {0: \"Angry\", 1: \"Happy\", 2: \"Neutral\", 3: \"Sad\", 4: \"Surprised\"}\n",
    "\n",
    "# load json and create model\n",
    "json_file = open('emotion_model.json', 'r')\n",
    "loaded_model_json = json_file.read()\n",
    "json_file.close()\n",
    "emotion_model = model_from_json(loaded_model_json)\n",
    "\n",
    "# load weights into new model\n",
    "emotion_model.load_weights(\"emotion_model.h5\")\n",
    "print(\"Loaded model from disk\")\n",
    "\n",
    "# Initialize image data generator with rescaling\n",
    "test_data_gen = ImageDataGenerator(rescale=1./255)\n",
    "\n",
    "# Preprocess all test images\n",
    "test_generator = test_data_gen.flow_from_directory(\n",
    "        'data/test',\n",
    "        target_size=(48, 48),\n",
    "        batch_size=64,\n",
    "        color_mode=\"grayscale\",\n",
    "        class_mode='categorical')\n",
    "\n",
    "# do prediction on test data\n",
    "predictions = emotion_model.predict_generator(test_generator)\n",
    "\n",
    "# see predictions\n",
    "# for result in predictions:\n",
    "#     max_index = int(np.argmax(result))\n",
    "#     print(emotion_dict[max_index])\n",
    "\n",
    "print(\"-----------------------------------------------------------------\")\n",
    "# confusion matrix\n",
    "c_matrix = confusion_matrix(test_generator.classes, predictions.argmax(axis=1))\n",
    "print(c_matrix)\n",
    "cm_display = ConfusionMatrixDisplay(confusion_matrix=c_matrix, display_labels=emotion_dict)\n",
    "cm_display.plot(cmap=plt.cm.Blues)\n",
    "plt.show()\n",
    "\n",
    "# Classification report\n",
    "print(\"-----------------------------------------------------------------\")\n",
    "print(classification_report(test_generator.classes, predictions.argmax(axis=1)))\n",
    "\n",
    "\n",
    "\n",
    "\n"
   ]
  }
 ],
 "metadata": {
  "kernelspec": {
   "display_name": "Emotion",
   "language": "python",
   "name": "python3"
  },
  "language_info": {
   "codemirror_mode": {
    "name": "ipython",
    "version": 3
   },
   "file_extension": ".py",
   "mimetype": "text/x-python",
   "name": "python",
   "nbconvert_exporter": "python",
   "pygments_lexer": "ipython3",
   "version": "3.9.6"
  }
 },
 "nbformat": 4,
 "nbformat_minor": 2
}
